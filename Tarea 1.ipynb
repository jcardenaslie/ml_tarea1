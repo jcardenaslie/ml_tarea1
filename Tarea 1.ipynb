{
 "cells": [
  {
   "cell_type": "markdown",
   "metadata": {},
   "source": [
    "# Exploración y Preparación de los Datos"
   ]
  },
  {
   "cell_type": "code",
   "execution_count": 1,
   "metadata": {},
   "outputs": [],
   "source": [
    "import numpy as np\n",
    "import pandas as pd\n",
    "import pylab as pl"
   ]
  },
  {
   "cell_type": "code",
   "execution_count": 2,
   "metadata": {},
   "outputs": [
    {
     "name": "stdout",
     "output_type": "stream",
     "text": [
      "(1379, 18)\n"
     ]
    },
    {
     "data": {
      "text/html": [
       "<div>\n",
       "<style scoped>\n",
       "    .dataframe tbody tr th:only-of-type {\n",
       "        vertical-align: middle;\n",
       "    }\n",
       "\n",
       "    .dataframe tbody tr th {\n",
       "        vertical-align: top;\n",
       "    }\n",
       "\n",
       "    .dataframe thead th {\n",
       "        text-align: right;\n",
       "    }\n",
       "</style>\n",
       "<table border=\"1\" class=\"dataframe\">\n",
       "  <thead>\n",
       "    <tr style=\"text-align: right;\">\n",
       "      <th></th>\n",
       "      <th>comuna</th>\n",
       "      <th>zona</th>\n",
       "      <th>sexo</th>\n",
       "      <th>edad</th>\n",
       "      <th>ecivil</th>\n",
       "      <th>educ</th>\n",
       "      <th>activ</th>\n",
       "      <th>P1</th>\n",
       "      <th>P2</th>\n",
       "      <th>P3</th>\n",
       "      <th>P4</th>\n",
       "      <th>P5</th>\n",
       "      <th>P6</th>\n",
       "      <th>P7</th>\n",
       "      <th>Y1</th>\n",
       "      <th>Y2</th>\n",
       "      <th>Ytot</th>\n",
       "      <th>Ytot2</th>\n",
       "    </tr>\n",
       "  </thead>\n",
       "  <tbody>\n",
       "    <tr>\n",
       "      <th>0</th>\n",
       "      <td>Iquique</td>\n",
       "      <td>Urbano</td>\n",
       "      <td>Mujer</td>\n",
       "      <td>36</td>\n",
       "      <td>Separado(a)</td>\n",
       "      <td>Profesional Completo</td>\n",
       "      <td>Ocupados</td>\n",
       "      <td>S</td>\n",
       "      <td>S</td>\n",
       "      <td>Chilena (exclusivamente)</td>\n",
       "      <td>En otra comuna</td>\n",
       "      <td>S</td>\n",
       "      <td>S</td>\n",
       "      <td>N5</td>\n",
       "      <td>1900000</td>\n",
       "      <td>0</td>\n",
       "      <td>1900000</td>\n",
       "      <td>1200000</td>\n",
       "    </tr>\n",
       "    <tr>\n",
       "      <th>1</th>\n",
       "      <td>Iquique</td>\n",
       "      <td>Urbano</td>\n",
       "      <td>Mujer</td>\n",
       "      <td>60</td>\n",
       "      <td>Soltero(a)</td>\n",
       "      <td>Profesional Completo</td>\n",
       "      <td>Ocupados</td>\n",
       "      <td>S</td>\n",
       "      <td>S</td>\n",
       "      <td>Chilena (exclusivamente)</td>\n",
       "      <td>En esta comuna</td>\n",
       "      <td>S</td>\n",
       "      <td>S</td>\n",
       "      <td>N6</td>\n",
       "      <td>741667</td>\n",
       "      <td>0</td>\n",
       "      <td>1091667</td>\n",
       "      <td>700000</td>\n",
       "    </tr>\n",
       "    <tr>\n",
       "      <th>2</th>\n",
       "      <td>Iquique</td>\n",
       "      <td>Urbano</td>\n",
       "      <td>Mujer</td>\n",
       "      <td>49</td>\n",
       "      <td>Soltero(a)</td>\n",
       "      <td>Profesional Completo</td>\n",
       "      <td>Ocupados</td>\n",
       "      <td>No</td>\n",
       "      <td>No</td>\n",
       "      <td>Chilena (exclusivamente)</td>\n",
       "      <td>En esta comuna</td>\n",
       "      <td>S</td>\n",
       "      <td>S</td>\n",
       "      <td>N8</td>\n",
       "      <td>757333</td>\n",
       "      <td>9346</td>\n",
       "      <td>766679</td>\n",
       "      <td>687333</td>\n",
       "    </tr>\n",
       "    <tr>\n",
       "      <th>3</th>\n",
       "      <td>Iquique</td>\n",
       "      <td>Urbano</td>\n",
       "      <td>Hombre</td>\n",
       "      <td>37</td>\n",
       "      <td>Casado(a)</td>\n",
       "      <td>Profesional  Incompleto</td>\n",
       "      <td>Ocupados</td>\n",
       "      <td>S</td>\n",
       "      <td>S</td>\n",
       "      <td>Chilena (exclusivamente)</td>\n",
       "      <td>En esta comuna</td>\n",
       "      <td>S</td>\n",
       "      <td>S</td>\n",
       "      <td>N10</td>\n",
       "      <td>2671666</td>\n",
       "      <td>0</td>\n",
       "      <td>3121666</td>\n",
       "      <td>1475000</td>\n",
       "    </tr>\n",
       "    <tr>\n",
       "      <th>4</th>\n",
       "      <td>Iquique</td>\n",
       "      <td>Urbano</td>\n",
       "      <td>Mujer</td>\n",
       "      <td>29</td>\n",
       "      <td>Separado(a)</td>\n",
       "      <td>M. Hum. Completa</td>\n",
       "      <td>Ocupados</td>\n",
       "      <td>S</td>\n",
       "      <td>S</td>\n",
       "      <td>Chilena (exclusivamente)</td>\n",
       "      <td>En esta comuna</td>\n",
       "      <td>S</td>\n",
       "      <td>S</td>\n",
       "      <td>N5</td>\n",
       "      <td>465000</td>\n",
       "      <td>3958</td>\n",
       "      <td>668958</td>\n",
       "      <td>315000</td>\n",
       "    </tr>\n",
       "  </tbody>\n",
       "</table>\n",
       "</div>"
      ],
      "text/plain": [
       "    comuna    zona    sexo  edad       ecivil                     educ  \\\n",
       "0  Iquique  Urbano   Mujer    36  Separado(a)     Profesional Completo   \n",
       "1  Iquique  Urbano   Mujer    60   Soltero(a)     Profesional Completo   \n",
       "2  Iquique  Urbano   Mujer    49   Soltero(a)     Profesional Completo   \n",
       "3  Iquique  Urbano  Hombre    37    Casado(a)  Profesional  Incompleto   \n",
       "4  Iquique  Urbano   Mujer    29  Separado(a)         M. Hum. Completa   \n",
       "\n",
       "      activ  P1  P2                        P3              P4  P5  P6   P7  \\\n",
       "0  Ocupados  S  S  Chilena (exclusivamente)  En otra comuna  S  S   N5   \n",
       "1  Ocupados  S  S  Chilena (exclusivamente)  En esta comuna  S  S   N6   \n",
       "2  Ocupados  No  No  Chilena (exclusivamente)  En esta comuna  S  S   N8   \n",
       "3  Ocupados  S  S  Chilena (exclusivamente)  En esta comuna  S  S  N10   \n",
       "4  Ocupados  S  S  Chilena (exclusivamente)  En esta comuna  S  S   N5   \n",
       "\n",
       "        Y1    Y2     Ytot    Ytot2  \n",
       "0  1900000     0  1900000  1200000  \n",
       "1   741667     0  1091667   700000  \n",
       "2   757333  9346   766679   687333  \n",
       "3  2671666     0  3121666  1475000  \n",
       "4   465000  3958   668958   315000  "
      ]
     },
     "execution_count": 2,
     "metadata": {},
     "output_type": "execute_result"
    }
   ],
   "source": [
    "df = pd.read_csv('casen2013tarapa.csv', sep = ';',encoding = \"ISO-8859-1\")\n",
    "\n",
    "print(df.shape)\n",
    "df.head()"
   ]
  },
  {
   "cell_type": "code",
   "execution_count": 3,
   "metadata": {},
   "outputs": [
    {
     "name": "stdout",
     "output_type": "stream",
     "text": [
      "<class 'pandas.core.frame.DataFrame'>\n",
      "RangeIndex: 1379 entries, 0 to 1378\n",
      "Data columns (total 18 columns):\n",
      "comuna    1379 non-null object\n",
      "zona      1379 non-null object\n",
      "sexo      1379 non-null object\n",
      "edad      1379 non-null int64\n",
      "ecivil    1379 non-null object\n",
      "educ      1379 non-null object\n",
      "activ     1379 non-null object\n",
      "P1        1379 non-null object\n",
      "P2        1379 non-null object\n",
      "P3        1379 non-null object\n",
      "P4        1379 non-null object\n",
      "P5        1379 non-null object\n",
      "P6        1379 non-null object\n",
      "P7        1379 non-null object\n",
      "Y1        1379 non-null int64\n",
      "Y2        1379 non-null int64\n",
      "Ytot      1379 non-null int64\n",
      "Ytot2     1379 non-null int64\n",
      "dtypes: int64(5), object(13)\n",
      "memory usage: 194.0+ KB\n"
     ]
    }
   ],
   "source": [
    "df.info()"
   ]
  },
  {
   "cell_type": "code",
   "execution_count": 4,
   "metadata": {},
   "outputs": [
    {
     "data": {
      "text/html": [
       "<div>\n",
       "<style scoped>\n",
       "    .dataframe tbody tr th:only-of-type {\n",
       "        vertical-align: middle;\n",
       "    }\n",
       "\n",
       "    .dataframe tbody tr th {\n",
       "        vertical-align: top;\n",
       "    }\n",
       "\n",
       "    .dataframe thead th {\n",
       "        text-align: right;\n",
       "    }\n",
       "</style>\n",
       "<table border=\"1\" class=\"dataframe\">\n",
       "  <thead>\n",
       "    <tr style=\"text-align: right;\">\n",
       "      <th></th>\n",
       "      <th>edad</th>\n",
       "      <th>Y1</th>\n",
       "      <th>Y2</th>\n",
       "      <th>Ytot</th>\n",
       "      <th>Ytot2</th>\n",
       "    </tr>\n",
       "  </thead>\n",
       "  <tbody>\n",
       "    <tr>\n",
       "      <th>count</th>\n",
       "      <td>1379.000000</td>\n",
       "      <td>1.379000e+03</td>\n",
       "      <td>1379.000000</td>\n",
       "      <td>1.379000e+03</td>\n",
       "      <td>1.379000e+03</td>\n",
       "    </tr>\n",
       "    <tr>\n",
       "      <th>mean</th>\n",
       "      <td>44.617839</td>\n",
       "      <td>8.060468e+05</td>\n",
       "      <td>15949.837563</td>\n",
       "      <td>9.681783e+05</td>\n",
       "      <td>5.012769e+05</td>\n",
       "    </tr>\n",
       "    <tr>\n",
       "      <th>std</th>\n",
       "      <td>13.401406</td>\n",
       "      <td>8.774141e+05</td>\n",
       "      <td>31560.710918</td>\n",
       "      <td>9.376082e+05</td>\n",
       "      <td>6.060144e+05</td>\n",
       "    </tr>\n",
       "    <tr>\n",
       "      <th>min</th>\n",
       "      <td>18.000000</td>\n",
       "      <td>8.330000e+02</td>\n",
       "      <td>0.000000</td>\n",
       "      <td>8.330000e+02</td>\n",
       "      <td>8.330000e+02</td>\n",
       "    </tr>\n",
       "    <tr>\n",
       "      <th>25%</th>\n",
       "      <td>35.000000</td>\n",
       "      <td>3.114165e+05</td>\n",
       "      <td>0.000000</td>\n",
       "      <td>4.395000e+05</td>\n",
       "      <td>2.000000e+05</td>\n",
       "    </tr>\n",
       "    <tr>\n",
       "      <th>50%</th>\n",
       "      <td>43.000000</td>\n",
       "      <td>5.600000e+05</td>\n",
       "      <td>0.000000</td>\n",
       "      <td>7.050000e+05</td>\n",
       "      <td>3.200000e+05</td>\n",
       "    </tr>\n",
       "    <tr>\n",
       "      <th>75%</th>\n",
       "      <td>54.000000</td>\n",
       "      <td>9.546750e+05</td>\n",
       "      <td>16834.500000</td>\n",
       "      <td>1.140000e+06</td>\n",
       "      <td>5.600000e+05</td>\n",
       "    </tr>\n",
       "    <tr>\n",
       "      <th>max</th>\n",
       "      <td>97.000000</td>\n",
       "      <td>9.416667e+06</td>\n",
       "      <td>222620.000000</td>\n",
       "      <td>1.011667e+07</td>\n",
       "      <td>6.578333e+06</td>\n",
       "    </tr>\n",
       "  </tbody>\n",
       "</table>\n",
       "</div>"
      ],
      "text/plain": [
       "              edad            Y1             Y2          Ytot         Ytot2\n",
       "count  1379.000000  1.379000e+03    1379.000000  1.379000e+03  1.379000e+03\n",
       "mean     44.617839  8.060468e+05   15949.837563  9.681783e+05  5.012769e+05\n",
       "std      13.401406  8.774141e+05   31560.710918  9.376082e+05  6.060144e+05\n",
       "min      18.000000  8.330000e+02       0.000000  8.330000e+02  8.330000e+02\n",
       "25%      35.000000  3.114165e+05       0.000000  4.395000e+05  2.000000e+05\n",
       "50%      43.000000  5.600000e+05       0.000000  7.050000e+05  3.200000e+05\n",
       "75%      54.000000  9.546750e+05   16834.500000  1.140000e+06  5.600000e+05\n",
       "max      97.000000  9.416667e+06  222620.000000  1.011667e+07  6.578333e+06"
      ]
     },
     "execution_count": 4,
     "metadata": {},
     "output_type": "execute_result"
    }
   ],
   "source": [
    "df.describe()"
   ]
  },
  {
   "cell_type": "code",
   "execution_count": 5,
   "metadata": {},
   "outputs": [
    {
     "data": {
      "text/plain": [
       "0    1900000\n",
       "1     741667\n",
       "2     757333\n",
       "3    2671666\n",
       "4     465000\n",
       "Name: Y1, dtype: int64"
      ]
     },
     "execution_count": 5,
     "metadata": {},
     "output_type": "execute_result"
    }
   ],
   "source": [
    "df.Y1.head()"
   ]
  },
  {
   "cell_type": "code",
   "execution_count": 6,
   "metadata": {},
   "outputs": [
    {
     "data": {
      "text/plain": [
       "Index(['comuna', 'zona', 'sexo', 'edad', 'ecivil', 'educ', 'activ', 'P1', 'P2',\n",
       "       'P3', 'P4', 'P5', 'P6', 'P7', 'Y1', 'Y2', 'Ytot', 'Ytot2'],\n",
       "      dtype='object')"
      ]
     },
     "execution_count": 6,
     "metadata": {},
     "output_type": "execute_result"
    }
   ],
   "source": [
    "df.columns"
   ]
  },
  {
   "cell_type": "markdown",
   "metadata": {},
   "source": [
    "# Categorical Encoder"
   ]
  },
  {
   "cell_type": "code",
   "execution_count": 7,
   "metadata": {},
   "outputs": [
    {
     "name": "stdout",
     "output_type": "stream",
     "text": [
      "(1379, 66)\n"
     ]
    },
    {
     "data": {
      "text/html": [
       "<div>\n",
       "<style scoped>\n",
       "    .dataframe tbody tr th:only-of-type {\n",
       "        vertical-align: middle;\n",
       "    }\n",
       "\n",
       "    .dataframe tbody tr th {\n",
       "        vertical-align: top;\n",
       "    }\n",
       "\n",
       "    .dataframe thead th {\n",
       "        text-align: right;\n",
       "    }\n",
       "</style>\n",
       "<table border=\"1\" class=\"dataframe\">\n",
       "  <thead>\n",
       "    <tr style=\"text-align: right;\">\n",
       "      <th></th>\n",
       "      <th>edad</th>\n",
       "      <th>Y1</th>\n",
       "      <th>Y2</th>\n",
       "      <th>Ytot</th>\n",
       "      <th>Ytot2</th>\n",
       "      <th>comuna_Alto Hospicio</th>\n",
       "      <th>comuna_Camia</th>\n",
       "      <th>comuna_Huara</th>\n",
       "      <th>comuna_Iquique</th>\n",
       "      <th>comuna_Pica</th>\n",
       "      <th>...</th>\n",
       "      <th>P7_N2</th>\n",
       "      <th>P7_N3</th>\n",
       "      <th>P7_N4</th>\n",
       "      <th>P7_N5</th>\n",
       "      <th>P7_N6</th>\n",
       "      <th>P7_N7</th>\n",
       "      <th>P7_N8</th>\n",
       "      <th>P7_N9</th>\n",
       "      <th>P7_NS/NR</th>\n",
       "      <th>unos</th>\n",
       "    </tr>\n",
       "  </thead>\n",
       "  <tbody>\n",
       "    <tr>\n",
       "      <th>0</th>\n",
       "      <td>36</td>\n",
       "      <td>1900000</td>\n",
       "      <td>0</td>\n",
       "      <td>1900000</td>\n",
       "      <td>1200000</td>\n",
       "      <td>0</td>\n",
       "      <td>0</td>\n",
       "      <td>0</td>\n",
       "      <td>1</td>\n",
       "      <td>0</td>\n",
       "      <td>...</td>\n",
       "      <td>0</td>\n",
       "      <td>0</td>\n",
       "      <td>0</td>\n",
       "      <td>1</td>\n",
       "      <td>0</td>\n",
       "      <td>0</td>\n",
       "      <td>0</td>\n",
       "      <td>0</td>\n",
       "      <td>0</td>\n",
       "      <td>1</td>\n",
       "    </tr>\n",
       "    <tr>\n",
       "      <th>1</th>\n",
       "      <td>60</td>\n",
       "      <td>741667</td>\n",
       "      <td>0</td>\n",
       "      <td>1091667</td>\n",
       "      <td>700000</td>\n",
       "      <td>0</td>\n",
       "      <td>0</td>\n",
       "      <td>0</td>\n",
       "      <td>1</td>\n",
       "      <td>0</td>\n",
       "      <td>...</td>\n",
       "      <td>0</td>\n",
       "      <td>0</td>\n",
       "      <td>0</td>\n",
       "      <td>0</td>\n",
       "      <td>1</td>\n",
       "      <td>0</td>\n",
       "      <td>0</td>\n",
       "      <td>0</td>\n",
       "      <td>0</td>\n",
       "      <td>1</td>\n",
       "    </tr>\n",
       "    <tr>\n",
       "      <th>2</th>\n",
       "      <td>49</td>\n",
       "      <td>757333</td>\n",
       "      <td>9346</td>\n",
       "      <td>766679</td>\n",
       "      <td>687333</td>\n",
       "      <td>0</td>\n",
       "      <td>0</td>\n",
       "      <td>0</td>\n",
       "      <td>1</td>\n",
       "      <td>0</td>\n",
       "      <td>...</td>\n",
       "      <td>0</td>\n",
       "      <td>0</td>\n",
       "      <td>0</td>\n",
       "      <td>0</td>\n",
       "      <td>0</td>\n",
       "      <td>0</td>\n",
       "      <td>1</td>\n",
       "      <td>0</td>\n",
       "      <td>0</td>\n",
       "      <td>1</td>\n",
       "    </tr>\n",
       "    <tr>\n",
       "      <th>3</th>\n",
       "      <td>37</td>\n",
       "      <td>2671666</td>\n",
       "      <td>0</td>\n",
       "      <td>3121666</td>\n",
       "      <td>1475000</td>\n",
       "      <td>0</td>\n",
       "      <td>0</td>\n",
       "      <td>0</td>\n",
       "      <td>1</td>\n",
       "      <td>0</td>\n",
       "      <td>...</td>\n",
       "      <td>0</td>\n",
       "      <td>0</td>\n",
       "      <td>0</td>\n",
       "      <td>0</td>\n",
       "      <td>0</td>\n",
       "      <td>0</td>\n",
       "      <td>0</td>\n",
       "      <td>0</td>\n",
       "      <td>0</td>\n",
       "      <td>1</td>\n",
       "    </tr>\n",
       "    <tr>\n",
       "      <th>4</th>\n",
       "      <td>29</td>\n",
       "      <td>465000</td>\n",
       "      <td>3958</td>\n",
       "      <td>668958</td>\n",
       "      <td>315000</td>\n",
       "      <td>0</td>\n",
       "      <td>0</td>\n",
       "      <td>0</td>\n",
       "      <td>1</td>\n",
       "      <td>0</td>\n",
       "      <td>...</td>\n",
       "      <td>0</td>\n",
       "      <td>0</td>\n",
       "      <td>0</td>\n",
       "      <td>1</td>\n",
       "      <td>0</td>\n",
       "      <td>0</td>\n",
       "      <td>0</td>\n",
       "      <td>0</td>\n",
       "      <td>0</td>\n",
       "      <td>1</td>\n",
       "    </tr>\n",
       "  </tbody>\n",
       "</table>\n",
       "<p>5 rows × 66 columns</p>\n",
       "</div>"
      ],
      "text/plain": [
       "   edad       Y1    Y2     Ytot    Ytot2  comuna_Alto Hospicio  comuna_Camia  \\\n",
       "0    36  1900000     0  1900000  1200000                     0              0   \n",
       "1    60   741667     0  1091667   700000                     0              0   \n",
       "2    49   757333  9346   766679   687333                     0              0   \n",
       "3    37  2671666     0  3121666  1475000                     0              0   \n",
       "4    29   465000  3958   668958   315000                     0              0   \n",
       "\n",
       "   comuna_Huara  comuna_Iquique  comuna_Pica  ...   P7_N2  P7_N3  P7_N4  \\\n",
       "0             0               1            0  ...       0      0      0   \n",
       "1             0               1            0  ...       0      0      0   \n",
       "2             0               1            0  ...       0      0      0   \n",
       "3             0               1            0  ...       0      0      0   \n",
       "4             0               1            0  ...       0      0      0   \n",
       "\n",
       "   P7_N5  P7_N6  P7_N7  P7_N8  P7_N9  P7_NS/NR  unos  \n",
       "0      1      0      0      0      0         0     1  \n",
       "1      0      1      0      0      0         0     1  \n",
       "2      0      0      0      1      0         0     1  \n",
       "3      0      0      0      0      0         0     1  \n",
       "4      1      0      0      0      0         0     1  \n",
       "\n",
       "[5 rows x 66 columns]"
      ]
     },
     "execution_count": 7,
     "metadata": {},
     "output_type": "execute_result"
    }
   ],
   "source": [
    "df_cat = pd.get_dummies(df)\n",
    "df_cat['unos'] = 1\n",
    "print(df_cat.shape)\n",
    "df_cat.head()"
   ]
  },
  {
   "cell_type": "code",
   "execution_count": 8,
   "metadata": {},
   "outputs": [
    {
     "name": "stdout",
     "output_type": "stream",
     "text": [
      "Index(['edad', 'Y1', 'Y2', 'Ytot', 'Ytot2', 'unos'], dtype='object')\n",
      "Index(['edad', 'Y1', 'comuna_Alto Hospicio', 'comuna_Camia', 'comuna_Huara',\n",
      "       'comuna_Iquique', 'comuna_Pica', 'comuna_Pozo Almonte', 'zona_Rural',\n",
      "       'zona_Urbano', 'sexo_Hombre', 'sexo_Mujer', 'ecivil_Anulado(a)',\n",
      "       'ecivil_Casado(a)', 'ecivil_Conviviente o pareja',\n",
      "       'ecivil_Divorciado(a)', 'ecivil_Separado(a)', 'ecivil_Soltero(a)',\n",
      "       'ecivil_Viudo(a)', 'educ_Bsica Compl.', 'educ_Bsica Incom.',\n",
      "       'educ_M. Hum. Completa', 'educ_M. Hum. Incompleta',\n",
      "       'educ_M. Tc Completa', 'educ_M. Tc. Prof. Incompleta', 'educ_NS/NR',\n",
      "       'educ_Postgrado Completo', 'educ_Postgrado Incompleto',\n",
      "       'educ_Profesional  Incompleto', 'educ_Profesional Completo',\n",
      "       'educ_Sin Educ. Formal', 'educ_Tcnico Nivel Superior Completo',\n",
      "       'educ_Tcnico Nivel Superior Incompleta', 'activ_Desocupados',\n",
      "       'activ_Inactivos', 'activ_Ocupados', 'P1_No', 'P1_S', 'P2_No', 'P2_S',\n",
      "       'P3_Chilena (exclusivamente)', 'P3_Chilena y otra (doble nacionalidad)',\n",
      "       'P3_Otra nacionalidad (extranjeros)', 'P4_En esta comuna',\n",
      "       'P4_En otra comuna', 'P4_En otro pas', 'P4_No sabe', 'P5_No', 'P5_S',\n",
      "       'P6_No', 'P6_S', 'P7_N1', 'P7_N10', 'P7_N2', 'P7_N3', 'P7_N4', 'P7_N5',\n",
      "       'P7_N6', 'P7_N7', 'P7_N8', 'P7_N9', 'P7_NS/NR', 'unos'],\n",
      "      dtype='object')\n"
     ]
    }
   ],
   "source": [
    "print(df_cat.select_dtypes(include=['int64']).columns)\n",
    "df_cat = df_cat.drop(['Y2', 'Ytot', 'Ytot2'],1)\n",
    "print(df_cat.columns)"
   ]
  },
  {
   "cell_type": "code",
   "execution_count": 9,
   "metadata": {},
   "outputs": [],
   "source": [
    "\n",
    "predictors = ['edad','comuna_Alto Hospicio',\n",
    "       'comuna_Camia', 'comuna_Huara', 'comuna_Iquique', 'comuna_Pica',\n",
    "       'comuna_Pozo Almonte', 'zona_Rural', 'zona_Urbano', 'sexo_Hombre',\n",
    "       'sexo_Mujer', 'ecivil_Anulado(a)', 'ecivil_Casado(a)',\n",
    "       'ecivil_Conviviente o pareja', 'ecivil_Divorciado(a)',\n",
    "       'ecivil_Separado(a)', 'ecivil_Soltero(a)', 'ecivil_Viudo(a)',\n",
    "       'educ_Bsica Compl.', 'educ_Bsica Incom.', 'educ_M. Hum. Completa',\n",
    "       'educ_M. Hum. Incompleta', 'educ_M. Tc Completa',\n",
    "       'educ_M. Tc. Prof. Incompleta', 'educ_NS/NR',\n",
    "       'educ_Postgrado Completo', 'educ_Postgrado Incompleto',\n",
    "       'educ_Profesional  Incompleto', 'educ_Profesional Completo',\n",
    "       'educ_Sin Educ. Formal', 'educ_Tcnico Nivel Superior Completo',\n",
    "       'educ_Tcnico Nivel Superior Incompleta', 'activ_Desocupados',\n",
    "       'activ_Inactivos', 'activ_Ocupados', 'P1_No', 'P1_S', 'P2_No', 'P2_S',\n",
    "       'P3_Chilena (exclusivamente)', 'P3_Chilena y otra (doble nacionalidad)',\n",
    "       'P3_Otra nacionalidad (extranjeros)', 'P4_En esta comuna',\n",
    "       'P4_En otra comuna', 'P4_En otro pas', 'P4_No sabe', 'P5_No', 'P5_S',\n",
    "       'P6_No', 'P6_S', 'P7_N1', 'P7_N10', 'P7_N2', 'P7_N3', 'P7_N4', 'P7_N5',\n",
    "       'P7_N6', 'P7_N7', 'P7_N8', 'P7_N9', 'P7_NS/NR','unos']\n",
    "\n",
    "y = df_cat.Y1\n",
    "X = df_cat[predictors]"
   ]
  },
  {
   "cell_type": "markdown",
   "metadata": {},
   "source": [
    "# EJERCICIO 1"
   ]
  },
  {
   "cell_type": "code",
   "execution_count": 10,
   "metadata": {},
   "outputs": [
    {
     "name": "stderr",
     "output_type": "stream",
     "text": [
      "C:\\ProgramData\\Anaconda3\\lib\\site-packages\\sklearn\\cross_validation.py:41: DeprecationWarning: This module was deprecated in version 0.18 in favor of the model_selection module into which all the refactored classes and functions are moved. Also note that the interface of the new CV iterators are different from that of this module. This module will be removed in 0.20.\n",
      "  \"This module will be removed in 0.20.\", DeprecationWarning)\n",
      "C:\\ProgramData\\Anaconda3\\lib\\site-packages\\sklearn\\grid_search.py:42: DeprecationWarning: This module was deprecated in version 0.18 in favor of the model_selection module into which all the refactored classes and functions are moved. This module will be removed in 0.20.\n",
      "  DeprecationWarning)\n"
     ]
    },
    {
     "name": "stdout",
     "output_type": "stream",
     "text": [
      "r2 / variance :  0.31710688861790115\n",
      "Mean Square Error: 663482294919.599\n"
     ]
    }
   ],
   "source": [
    "from sklearn.linear_model import LinearRegression\n",
    "from sklearn.linear_model import Ridge\n",
    "from sklearn.model_selection import train_test_split\n",
    "from sklearn.grid_search import GridSearchCV\n",
    "\n",
    "\n",
    "X_train, X_test, y_train, y_test = train_test_split(X, y, test_size=0.3,random_state =1 )\n",
    "\n",
    "model = Ridge()\n",
    "parameters = {'fit_intercept':[True,False], 'normalize':[True,False], 'copy_X':[True, False]}\n",
    "\n",
    "grid = GridSearchCV(model,parameters, cv=None)\n",
    "grid.fit(X_train, y_train)\n",
    "\n",
    "print(\"r2 / variance : \", grid.best_score_)\n",
    "print(\"Mean Square Error: \" +  str(1/len(X_test)*np.sum((grid.predict(X_test) - y_test) ** 2)))"
   ]
  },
  {
   "cell_type": "markdown",
   "metadata": {},
   "source": [
    "# Ejercicio 2"
   ]
  },
  {
   "cell_type": "code",
   "execution_count": 13,
   "metadata": {},
   "outputs": [],
   "source": [
    "target = []\n",
    "for row in df_cat.Y1:\n",
    "    if row < 200000:\n",
    "        target.append(1)\n",
    "    else:\n",
    "        target.append(0)\n",
    "\n",
    "df_cat['sub200'] = target"
   ]
  },
  {
   "cell_type": "code",
   "execution_count": 14,
   "metadata": {},
   "outputs": [],
   "source": [
    "predictors = ['edad','comuna_Alto Hospicio',\n",
    "       'comuna_Camia', 'comuna_Huara', 'comuna_Iquique', 'comuna_Pica',\n",
    "       'comuna_Pozo Almonte', 'zona_Rural', 'zona_Urbano', 'sexo_Hombre',\n",
    "       'sexo_Mujer', 'ecivil_Anulado(a)', 'ecivil_Casado(a)',\n",
    "       'ecivil_Conviviente o pareja', 'ecivil_Divorciado(a)',\n",
    "       'ecivil_Separado(a)', 'ecivil_Soltero(a)', 'ecivil_Viudo(a)',\n",
    "       'educ_Bsica Compl.', 'educ_Bsica Incom.', 'educ_M. Hum. Completa',\n",
    "       'educ_M. Hum. Incompleta', 'educ_M. Tc Completa',\n",
    "       'educ_M. Tc. Prof. Incompleta', 'educ_NS/NR',\n",
    "       'educ_Postgrado Completo', 'educ_Postgrado Incompleto',\n",
    "       'educ_Profesional  Incompleto', 'educ_Profesional Completo',\n",
    "       'educ_Sin Educ. Formal', 'educ_Tcnico Nivel Superior Completo',\n",
    "       'educ_Tcnico Nivel Superior Incompleta', 'activ_Desocupados',\n",
    "       'activ_Inactivos', 'activ_Ocupados', 'P1_No', 'P1_S', 'P2_No', 'P2_S',\n",
    "       'P3_Chilena (exclusivamente)', 'P3_Chilena y otra (doble nacionalidad)',\n",
    "       'P3_Otra nacionalidad (extranjeros)', 'P4_En esta comuna',\n",
    "       'P4_En otra comuna', 'P4_En otro pas', 'P4_No sabe', 'P5_No', 'P5_S',\n",
    "       'P6_No', 'P6_S', 'P7_N1', 'P7_N10', 'P7_N2', 'P7_N3', 'P7_N4', 'P7_N5',\n",
    "       'P7_N6', 'P7_N7', 'P7_N8', 'P7_N9', 'P7_NS/NR','unos']\n",
    "\n",
    "y = df_cat.sub200\n",
    "X = df_cat[predictors]"
   ]
  },
  {
   "cell_type": "code",
   "execution_count": 15,
   "metadata": {},
   "outputs": [
    {
     "name": "stdout",
     "output_type": "stream",
     "text": [
      "(1379, 62)\n",
      "(1379,)\n"
     ]
    }
   ],
   "source": [
    "print(X.shape)\n",
    "print(y.shape)"
   ]
  },
  {
   "cell_type": "code",
   "execution_count": 16,
   "metadata": {},
   "outputs": [
    {
     "name": "stdout",
     "output_type": "stream",
     "text": [
      "(1034, 62)\n",
      "(345, 62)\n"
     ]
    }
   ],
   "source": [
    "from sklearn.model_selection import train_test_split\n",
    "# x_train, x_test, y_train, y_test = train_test_split(digits.data, digits.target, test_size=0.25, random_state=0)\n",
    "x_train, x_test, y_train, y_test = train_test_split(X, y, test_size=0.25, random_state=0)\n",
    "print(x_train.shape)\n",
    "print(x_test.shape)"
   ]
  },
  {
   "cell_type": "code",
   "execution_count": 17,
   "metadata": {},
   "outputs": [
    {
     "data": {
      "text/plain": [
       "LogisticRegression(C=1.0, class_weight=None, dual=False, fit_intercept=True,\n",
       "          intercept_scaling=1, max_iter=100, multi_class='ovr', n_jobs=1,\n",
       "          penalty='l2', random_state=None, solver='liblinear', tol=0.0001,\n",
       "          verbose=0, warm_start=False)"
      ]
     },
     "execution_count": 17,
     "metadata": {},
     "output_type": "execute_result"
    }
   ],
   "source": [
    "from sklearn.linear_model import LogisticRegression\n",
    "# all parameters not specified are set to their defaults\n",
    "logisticRegr = LogisticRegression()\n",
    "logisticRegr.fit(x_train, y_train)\n",
    "\n",
    "# Returns a NumPy Array\n",
    "# Predict for One Observation (image)\n",
    "# logisticRegr.predict(x_test[0].reshape(1,-1))"
   ]
  },
  {
   "cell_type": "code",
   "execution_count": 18,
   "metadata": {},
   "outputs": [
    {
     "data": {
      "text/plain": [
       "array([0, 0, 0, 0, 0, 0, 0, 0, 0, 0], dtype=int64)"
      ]
     },
     "execution_count": 18,
     "metadata": {},
     "output_type": "execute_result"
    }
   ],
   "source": [
    "logisticRegr.predict(x_test[0:10])"
   ]
  },
  {
   "cell_type": "code",
   "execution_count": 19,
   "metadata": {},
   "outputs": [],
   "source": [
    "predictions = logisticRegr.predict(x_test)"
   ]
  },
  {
   "cell_type": "code",
   "execution_count": 20,
   "metadata": {},
   "outputs": [
    {
     "name": "stdout",
     "output_type": "stream",
     "text": [
      "0.9130434782608695\n"
     ]
    }
   ],
   "source": [
    "# Use score method to get accuracy of model\n",
    "score = logisticRegr.score(x_test, y_test)\n",
    "print(score)"
   ]
  },
  {
   "cell_type": "code",
   "execution_count": 21,
   "metadata": {},
   "outputs": [
    {
     "name": "stdout",
     "output_type": "stream",
     "text": [
      "0.5822570229254117\n",
      "0.9130434782608695\n",
      "0.8893389114290127\n",
      "[0.95398773 0.21052632]\n",
      "[0.92284866 0.5       ] [0.98730159 0.13333333] [0.95398773 0.21052632] [315  30]\n"
     ]
    }
   ],
   "source": [
    "from sklearn.metrics import f1_score\n",
    "from sklearn.metrics import precision_recall_fscore_support as score\n",
    "y_true = y_test\n",
    "y_pred = predictions\n",
    "\n",
    "print(f1_score(y_true, y_pred, average='macro'))  \n",
    "\n",
    "print(f1_score(y_true, y_pred, average='micro')) \n",
    "\n",
    "print(f1_score(y_true, y_pred, average='weighted'))\n",
    "\n",
    "print(f1_score(y_true, y_pred, average=None))\n",
    "\n",
    "precision, recall, fscore, support = score(y_true, y_pred)\n",
    "\n",
    "print(precision,recall,fscore,support)\n"
   ]
  },
  {
   "cell_type": "code",
   "execution_count": 24,
   "metadata": {},
   "outputs": [
    {
     "data": {
      "image/png": "[encoded data removed]",
      "text/plain": [
       "<matplotlib.figure.Figure at 0x281e1c1cac8>"
      ]
     },
     "metadata": {},
     "output_type": "display_data"
    }
   ],
   "source": [
    "import matplotlib.pyplot as plt\n",
    "import seaborn as sns\n",
    "from sklearn import metrics\n",
    "\n",
    "cm = metrics.confusion_matrix(y_test, predictions)\n",
    "\n",
    "plt.figure(figsize=(9,9))\n",
    "sns.heatmap(cm, annot=True, fmt=\".3f\", linewidths=.5, square = True, cmap = 'Blues_r');\n",
    "plt.ylabel('Actual label');\n",
    "plt.xlabel('Predicted label');\n",
    "all_sample_title = 'F-Score: {0}'.format(fscore[0])\n",
    "plt.title(all_sample_title, size = 15);\n",
    "plt.savefig('foo.png')"
   ]
  }
 ],
 "metadata": {
  "kernelspec": {
   "display_name": "Python 3",
   "language": "python",
   "name": "python3"
  },
  "language_info": {
   "codemirror_mode": {
    "name": "ipython",
    "version": 3
   },
   "file_extension": ".py",
   "mimetype": "text/x-python",
   "name": "python",
   "nbconvert_exporter": "python",
   "pygments_lexer": "ipython3",
   "version": "3.6.4"
  }
 },
 "nbformat": 4,
 "nbformat_minor": 2
}
